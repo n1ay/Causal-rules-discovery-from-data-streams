{
 "cells": [
  {
   "cell_type": "code",
   "execution_count": 50,
   "metadata": {},
   "outputs": [
    {
     "name": "stdout",
     "output_type": "stream",
     "text": [
      "         date  temp\n",
      "0  1981-01-01  20.7\n",
      "1  1981-01-02  17.9\n",
      "2  1981-01-03  18.8\n",
      "3  1981-01-04  14.6\n",
      "4  1981-01-05  15.8\n",
      "5  1981-01-06  15.8\n",
      "6  1981-01-07  15.8\n",
      "7  1981-01-08  17.4\n",
      "8  1981-01-09  21.8\n",
      "9  1981-01-10  20.0\n",
      "10 1981-01-11  16.2\n",
      "11 1981-01-12  13.3\n",
      "12 1981-01-13  16.7\n",
      "13 1981-01-14  21.5\n",
      "14 1981-01-15  25.0\n",
      "15 1981-01-16  20.7\n",
      "16 1981-01-17  20.6\n",
      "17 1981-01-18  24.8\n",
      "18 1981-01-19  17.7\n",
      "19 1981-01-20  15.5\n"
     ]
    },
    {
     "data": {
      "image/png": "[encoded data removed]",
      "text/plain": [
       "<matplotlib.figure.Figure at 0x7fef51b76400>"
      ]
     },
     "metadata": {},
     "output_type": "display_data"
    }
   ],
   "source": [
    "# line plot of time series\n",
    "from pandas import Series\n",
    "from pandas import DataFrame\n",
    "from matplotlib import pyplot\n",
    "import pandas as pd\n",
    "# load dataset\n",
    "series = pd.read_csv('./sequences/daily-minimum-temperatures-in-me.csv', delimiter=';', converters={\"temp\":float}, parse_dates=['date'])\n",
    "series.head()\n",
    "#df.temp.dtype = pd.np.float32\n",
    "# display first few rows\n",
    "#df.temp = df.temp.astype(float)\n",
    "print(series.head(20))\n",
    "# line plot of dataset\n",
    "series.plot()\n",
    "pyplot.show()"
   ]
  },
  {
   "cell_type": "code",
   "execution_count": 51,
   "metadata": {},
   "outputs": [
    {
     "name": "stdout",
     "output_type": "stream",
     "text": [
      "Dataset 3643, Validation 7\n"
     ]
    }
   ],
   "source": [
    "split_point = len(series) - 7\n",
    "dataset, validation = series[0:split_point][:], series[split_point:][:]\n",
    "print('Dataset %d, Validation %d' % (len(dataset), len(validation)))\n",
    "dataset.to_csv('dataset.csv')\n",
    "validation.to_csv('validation.csv')"
   ]
  },
  {
   "cell_type": "code",
   "execution_count": 38,
   "metadata": {},
   "outputs": [],
   "source": [
    "# create a differenced series\n",
    "def difference(dataset, interval=1):\n",
    "\tdiff = list()\n",
    "\tfor i in range(interval, len(dataset)):\n",
    "\t\tvalue = dataset[i] - dataset[i - interval]\n",
    "\t\tdiff.append(value)\n",
    "\treturn numpy.array(diff)"
   ]
  },
  {
   "cell_type": "code",
   "execution_count": 39,
   "metadata": {},
   "outputs": [],
   "source": [
    "\n",
    "# invert differenced value\n",
    "def inverse_difference(history, yhat, interval=1):\n",
    "\treturn yhat + history[-interval]"
   ]
  },
  {
   "cell_type": "code",
   "execution_count": 62,
   "metadata": {},
   "outputs": [
    {
     "name": "stderr",
     "output_type": "stream",
     "text": [
      "/usr/local/lib/python3.5/dist-packages/statsmodels/tsa/kalmanf/kalmanfilter.py:646: FutureWarning: Conversion of the second argument of issubdtype from `float` to `np.floating` is deprecated. In future, it will be treated as `np.float64 == np.dtype(float).type`.\n",
      "  if issubdtype(paramsdtype, float):\n",
      "/usr/local/lib/python3.5/dist-packages/statsmodels/tsa/kalmanf/kalmanfilter.py:650: FutureWarning: Conversion of the second argument of issubdtype from `complex` to `np.complexfloating` is deprecated. In future, it will be treated as `np.complex128 == np.dtype(complex).type`.\n",
      "  elif issubdtype(paramsdtype, complex):\n"
     ]
    },
    {
     "name": "stdout",
     "output_type": "stream",
     "text": [
      "                              ARMA Model Results                              \n",
      "==============================================================================\n",
      "Dep. Variable:                      y   No. Observations:                 3285\n",
      "Model:                     ARMA(7, 1)   Log Likelihood               -8689.286\n",
      "Method:                       css-mle   S.D. of innovations              3.408\n",
      "Date:                Tue, 03 Jul 2018   AIC                          17398.571\n",
      "Time:                        18:47:00   BIC                          17459.542\n",
      "Sample:                             0   HQIC                         17420.401\n",
      "                                                                              \n",
      "==============================================================================\n",
      "                 coef    std err          z      P>|z|      [0.025      0.975]\n",
      "------------------------------------------------------------------------------\n",
      "const          0.0149      0.132      0.113      0.910      -0.244       0.274\n",
      "ar.L1.y        1.1435      0.287      3.982      0.000       0.581       1.706\n",
      "ar.L2.y       -0.4354      0.154     -2.834      0.005      -0.737      -0.134\n",
      "ar.L3.y        0.0962      0.042      2.289      0.022       0.014       0.178\n",
      "ar.L4.y        0.0126      0.029      0.436      0.663      -0.044       0.069\n",
      "ar.L5.y       -0.0103      0.029     -0.352      0.725      -0.068       0.047\n",
      "ar.L6.y        0.0125      0.027      0.468      0.640      -0.040       0.065\n",
      "ar.L7.y        0.0086      0.024      0.357      0.721      -0.039       0.056\n",
      "ma.L1.y       -0.6165      0.287     -2.150      0.032      -1.178      -0.055\n",
      "                                    Roots                                    \n",
      "=============================================================================\n",
      "                 Real           Imaginary           Modulus         Frequency\n",
      "-----------------------------------------------------------------------------\n",
      "AR.1            1.2231           -0.0000j            1.2231           -0.0000\n",
      "AR.2            1.2547           -1.0688j            1.6482           -0.1123\n",
      "AR.3            1.2547           +1.0688j            1.6482            0.1123\n",
      "AR.4            0.0283           -2.0212j            2.0214           -0.2478\n",
      "AR.5            0.0283           +2.0212j            2.0214            0.2478\n",
      "AR.6           -2.6182           -1.3062j            2.9259           -0.4264\n",
      "AR.7           -2.6182           +1.3062j            2.9259            0.4264\n",
      "MA.1            1.6221           +0.0000j            1.6221            0.0000\n",
      "-----------------------------------------------------------------------------\n"
     ]
    }
   ],
   "source": [
    "from pandas import Series\n",
    "from statsmodels.tsa.arima_model import ARIMA\n",
    "import numpy\n",
    " \n",
    "# create a differenced series\n",
    "def difference(dataset, interval=1):\n",
    "\tdiff = list()\n",
    "\tfor i in range(interval, len(dataset)):\n",
    "\t\tvalue = dataset[i] - dataset[i - interval]\n",
    "\t\tdiff.append(value)\n",
    "\treturn numpy.array(diff)\n",
    " \n",
    "# load dataset\n",
    "#series = Series.from_csv('dataset.csv', header=None)\n",
    "# seasonal difference\n",
    "X = series.temp\n",
    "days_in_year = 365\n",
    "differenced = difference(X, days_in_year)\n",
    "# fit model\n",
    "model = ARIMA(differenced, order=(7,0,1))\n",
    "model_fit = model.fit(disp=0)\n",
    "# print summary of fit model\n",
    "print(model_fit.summary())"
   ]
  },
  {
   "cell_type": "code",
   "execution_count": 48,
   "metadata": {},
   "outputs": [
    {
     "data": {
      "text/plain": [
       "17.9"
      ]
     },
     "execution_count": 48,
     "metadata": {},
     "output_type": "execute_result"
    }
   ],
   "source": [
    "dataset.temp[1]"
   ]
  },
  {
   "cell_type": "code",
   "execution_count": 63,
   "metadata": {},
   "outputs": [
    {
     "name": "stderr",
     "output_type": "stream",
     "text": [
      "/usr/local/lib/python3.5/dist-packages/statsmodels/tsa/kalmanf/kalmanfilter.py:577: FutureWarning: Conversion of the second argument of issubdtype from `float` to `np.floating` is deprecated. In future, it will be treated as `np.float64 == np.dtype(float).type`.\n",
      "  if issubdtype(paramsdtype, float):\n"
     ]
    },
    {
     "ename": "KeyError",
     "evalue": "-365",
     "output_type": "error",
     "traceback": [
      "\u001b[0;31m---------------------------------------------------------------------------\u001b[0m",
      "\u001b[0;31mKeyError\u001b[0m                                  Traceback (most recent call last)",
      "\u001b[0;32m<ipython-input-63-628d34ad7cf4>\u001b[0m in \u001b[0;36m<module>\u001b[0;34m()\u001b[0m\n\u001b[1;32m      1\u001b[0m \u001b[0mforecast\u001b[0m \u001b[0;34m=\u001b[0m \u001b[0mmodel_fit\u001b[0m\u001b[0;34m.\u001b[0m\u001b[0mforecast\u001b[0m\u001b[0;34m(\u001b[0m\u001b[0;34m)\u001b[0m\u001b[0;34m[\u001b[0m\u001b[0;36m0\u001b[0m\u001b[0;34m]\u001b[0m\u001b[0;34m\u001b[0m\u001b[0m\n\u001b[0;32m----> 2\u001b[0;31m \u001b[0mforecast\u001b[0m \u001b[0;34m=\u001b[0m \u001b[0minverse_difference\u001b[0m\u001b[0;34m(\u001b[0m\u001b[0mX\u001b[0m\u001b[0;34m,\u001b[0m \u001b[0mforecast\u001b[0m\u001b[0;34m,\u001b[0m \u001b[0mdays_in_year\u001b[0m\u001b[0;34m)\u001b[0m\u001b[0;34m\u001b[0m\u001b[0m\n\u001b[0m",
      "\u001b[0;32m<ipython-input-39-90fab00fa56c>\u001b[0m in \u001b[0;36minverse_difference\u001b[0;34m(history, yhat, interval)\u001b[0m\n\u001b[1;32m      2\u001b[0m \u001b[0;31m# invert differenced value\u001b[0m\u001b[0;34m\u001b[0m\u001b[0;34m\u001b[0m\u001b[0m\n\u001b[1;32m      3\u001b[0m \u001b[0;32mdef\u001b[0m \u001b[0minverse_difference\u001b[0m\u001b[0;34m(\u001b[0m\u001b[0mhistory\u001b[0m\u001b[0;34m,\u001b[0m \u001b[0myhat\u001b[0m\u001b[0;34m,\u001b[0m \u001b[0minterval\u001b[0m\u001b[0;34m=\u001b[0m\u001b[0;36m1\u001b[0m\u001b[0;34m)\u001b[0m\u001b[0;34m:\u001b[0m\u001b[0;34m\u001b[0m\u001b[0m\n\u001b[0;32m----> 4\u001b[0;31m         \u001b[0;32mreturn\u001b[0m \u001b[0myhat\u001b[0m \u001b[0;34m+\u001b[0m \u001b[0mhistory\u001b[0m\u001b[0;34m[\u001b[0m\u001b[0;34m-\u001b[0m\u001b[0minterval\u001b[0m\u001b[0;34m]\u001b[0m\u001b[0;34m\u001b[0m\u001b[0m\n\u001b[0m",
      "\u001b[0;32m/usr/local/lib/python3.5/dist-packages/pandas/core/series.py\u001b[0m in \u001b[0;36m__getitem__\u001b[0;34m(self, key)\u001b[0m\n\u001b[1;32m    599\u001b[0m         \u001b[0mkey\u001b[0m \u001b[0;34m=\u001b[0m \u001b[0mcom\u001b[0m\u001b[0;34m.\u001b[0m\u001b[0m_apply_if_callable\u001b[0m\u001b[0;34m(\u001b[0m\u001b[0mkey\u001b[0m\u001b[0;34m,\u001b[0m \u001b[0mself\u001b[0m\u001b[0;34m)\u001b[0m\u001b[0;34m\u001b[0m\u001b[0m\n\u001b[1;32m    600\u001b[0m         \u001b[0;32mtry\u001b[0m\u001b[0;34m:\u001b[0m\u001b[0;34m\u001b[0m\u001b[0m\n\u001b[0;32m--> 601\u001b[0;31m             \u001b[0mresult\u001b[0m \u001b[0;34m=\u001b[0m \u001b[0mself\u001b[0m\u001b[0;34m.\u001b[0m\u001b[0mindex\u001b[0m\u001b[0;34m.\u001b[0m\u001b[0mget_value\u001b[0m\u001b[0;34m(\u001b[0m\u001b[0mself\u001b[0m\u001b[0;34m,\u001b[0m \u001b[0mkey\u001b[0m\u001b[0;34m)\u001b[0m\u001b[0;34m\u001b[0m\u001b[0m\n\u001b[0m\u001b[1;32m    602\u001b[0m \u001b[0;34m\u001b[0m\u001b[0m\n\u001b[1;32m    603\u001b[0m             \u001b[0;32mif\u001b[0m \u001b[0;32mnot\u001b[0m \u001b[0mis_scalar\u001b[0m\u001b[0;34m(\u001b[0m\u001b[0mresult\u001b[0m\u001b[0;34m)\u001b[0m\u001b[0;34m:\u001b[0m\u001b[0;34m\u001b[0m\u001b[0m\n",
      "\u001b[0;32m/usr/local/lib/python3.5/dist-packages/pandas/core/indexes/base.py\u001b[0m in \u001b[0;36mget_value\u001b[0;34m(self, series, key)\u001b[0m\n\u001b[1;32m   2475\u001b[0m         \u001b[0;32mtry\u001b[0m\u001b[0;34m:\u001b[0m\u001b[0;34m\u001b[0m\u001b[0m\n\u001b[1;32m   2476\u001b[0m             return self._engine.get_value(s, k,\n\u001b[0;32m-> 2477\u001b[0;31m                                           tz=getattr(series.dtype, 'tz', None))\n\u001b[0m\u001b[1;32m   2478\u001b[0m         \u001b[0;32mexcept\u001b[0m \u001b[0mKeyError\u001b[0m \u001b[0;32mas\u001b[0m \u001b[0me1\u001b[0m\u001b[0;34m:\u001b[0m\u001b[0;34m\u001b[0m\u001b[0m\n\u001b[1;32m   2479\u001b[0m             \u001b[0;32mif\u001b[0m \u001b[0mlen\u001b[0m\u001b[0;34m(\u001b[0m\u001b[0mself\u001b[0m\u001b[0;34m)\u001b[0m \u001b[0;34m>\u001b[0m \u001b[0;36m0\u001b[0m \u001b[0;32mand\u001b[0m \u001b[0mself\u001b[0m\u001b[0;34m.\u001b[0m\u001b[0minferred_type\u001b[0m \u001b[0;32min\u001b[0m \u001b[0;34m[\u001b[0m\u001b[0;34m'integer'\u001b[0m\u001b[0;34m,\u001b[0m \u001b[0;34m'boolean'\u001b[0m\u001b[0;34m]\u001b[0m\u001b[0;34m:\u001b[0m\u001b[0;34m\u001b[0m\u001b[0m\n",
      "\u001b[0;32mpandas/_libs/index.pyx\u001b[0m in \u001b[0;36mpandas._libs.index.IndexEngine.get_value (pandas/_libs/index.c:4404)\u001b[0;34m()\u001b[0m\n",
      "\u001b[0;32mpandas/_libs/index.pyx\u001b[0m in \u001b[0;36mpandas._libs.index.IndexEngine.get_value (pandas/_libs/index.c:4087)\u001b[0;34m()\u001b[0m\n",
      "\u001b[0;32mpandas/_libs/index.pyx\u001b[0m in \u001b[0;36mpandas._libs.index.IndexEngine.get_loc (pandas/_libs/index.c:5126)\u001b[0;34m()\u001b[0m\n",
      "\u001b[0;32mpandas/_libs/hashtable_class_helper.pxi\u001b[0m in \u001b[0;36mpandas._libs.hashtable.Int64HashTable.get_item (pandas/_libs/hashtable.c:14031)\u001b[0;34m()\u001b[0m\n",
      "\u001b[0;32mpandas/_libs/hashtable_class_helper.pxi\u001b[0m in \u001b[0;36mpandas._libs.hashtable.Int64HashTable.get_item (pandas/_libs/hashtable.c:13975)\u001b[0;34m()\u001b[0m\n",
      "\u001b[0;31mKeyError\u001b[0m: -365"
     ]
    }
   ],
   "source": [
    "forecast = model_fit.forecast()[0]\n",
    "forecast = inverse_difference(X, forecast, days_in_year)"
   ]
  },
  {
   "cell_type": "code",
   "execution_count": 66,
   "metadata": {},
   "outputs": [
    {
     "name": "stdout",
     "output_type": "stream",
     "text": [
      "Forecast: 14.872528\n"
     ]
    }
   ],
   "source": [
    "forecast = model_fit.forecast()[0]\n",
    "# invert the differenced forecast to something usable\n",
    "forecast = inverse_difference(X.values, forecast, days_in_year)\n",
    "print('Forecast: %f' % forecast)"
   ]
  },
  {
   "cell_type": "code",
   "execution_count": 65,
   "metadata": {},
   "outputs": [
    {
     "data": {
      "text/plain": [
       "0       20.7\n",
       "1       17.9\n",
       "2       18.8\n",
       "3       14.6\n",
       "4       15.8\n",
       "5       15.8\n",
       "6       15.8\n",
       "7       17.4\n",
       "8       21.8\n",
       "9       20.0\n",
       "10      16.2\n",
       "11      13.3\n",
       "12      16.7\n",
       "13      21.5\n",
       "14      25.0\n",
       "15      20.7\n",
       "16      20.6\n",
       "17      24.8\n",
       "18      17.7\n",
       "19      15.5\n",
       "20      18.2\n",
       "21      12.1\n",
       "22      14.4\n",
       "23      16.0\n",
       "24      16.5\n",
       "25      18.7\n",
       "26      19.4\n",
       "27      17.2\n",
       "28      15.5\n",
       "29      15.1\n",
       "        ... \n",
       "3620    13.2\n",
       "3621    16.2\n",
       "3622    17.3\n",
       "3623    20.5\n",
       "3624    20.2\n",
       "3625    19.4\n",
       "3626    15.5\n",
       "3627    14.1\n",
       "3628    11.0\n",
       "3629    11.1\n",
       "3630    14.0\n",
       "3631    11.4\n",
       "3632    12.5\n",
       "3633    13.4\n",
       "3634    13.6\n",
       "3635    13.9\n",
       "3636    17.2\n",
       "3637    14.7\n",
       "3638    15.4\n",
       "3639    13.1\n",
       "3640    13.2\n",
       "3641    13.9\n",
       "3642    10.0\n",
       "3643    12.9\n",
       "3644    14.6\n",
       "3645    14.0\n",
       "3646    13.6\n",
       "3647    13.5\n",
       "3648    15.7\n",
       "3649    13.0\n",
       "Name: temp, Length: 3650, dtype: float64"
      ]
     },
     "execution_count": 65,
     "metadata": {},
     "output_type": "execute_result"
    }
   ],
   "source": [
    "X"
   ]
  },
  {
   "cell_type": "code",
   "execution_count": 68,
   "metadata": {},
   "outputs": [
    {
     "name": "stdout",
     "output_type": "stream",
     "text": [
      "Day 1: 14.872528\n",
      "Day 2: 13.395901\n",
      "Day 3: 15.723570\n",
      "Day 4: 14.654412\n",
      "Day 5: 14.475239\n",
      "Day 6: 15.462986\n",
      "Day 7: 16.531543\n"
     ]
    }
   ],
   "source": [
    "# multi-step out-of-sample forecast\n",
    "forecast = model_fit.forecast(steps=7)[0]\n",
    "# invert the differenced forecast to something usable\n",
    "history = [x for x in X.values]\n",
    "day = 1\n",
    "for yhat in forecast:\n",
    "\tinverted = inverse_difference(history, yhat, days_in_year)\n",
    "\tprint('Day %d: %f' % (day, inverted))\n",
    "\thistory.append(inverted)\n",
    "\tday += 1"
   ]
  },
  {
   "cell_type": "code",
   "execution_count": 71,
   "metadata": {},
   "outputs": [
    {
     "ename": "NameError",
     "evalue": "name 'plot' is not defined",
     "output_type": "error",
     "traceback": [
      "\u001b[0;31m---------------------------------------------------------------------------\u001b[0m",
      "\u001b[0;31mNameError\u001b[0m                                 Traceback (most recent call last)",
      "\u001b[0;32m<ipython-input-71-09fcf78921f5>\u001b[0m in \u001b[0;36m<module>\u001b[0;34m()\u001b[0m\n\u001b[0;32m----> 1\u001b[0;31m \u001b[0mplot\u001b[0m\u001b[0;34m(\u001b[0m\u001b[0mhistory\u001b[0m\u001b[0;34m)\u001b[0m\u001b[0;34m\u001b[0m\u001b[0m\n\u001b[0m",
      "\u001b[0;31mNameError\u001b[0m: name 'plot' is not defined"
     ]
    }
   ],
   "source": [
    "plot(history)"
   ]
  },
  {
   "cell_type": "code",
   "execution_count": null,
   "metadata": {},
   "outputs": [],
   "source": []
  }
 ],
 "metadata": {
  "kernelspec": {
   "display_name": "Python 3",
   "language": "python",
   "name": "python3"
  },
  "language_info": {
   "codemirror_mode": {
    "name": "ipython",
    "version": 3
   },
   "file_extension": ".py",
   "mimetype": "text/x-python",
   "name": "python",
   "nbconvert_exporter": "python",
   "pygments_lexer": "ipython3",
   "version": "3.5.2"
  }
 },
 "nbformat": 4,
 "nbformat_minor": 2
}
